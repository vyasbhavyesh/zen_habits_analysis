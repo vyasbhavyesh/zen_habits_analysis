{
 "cells": [
  {
   "cell_type": "code",
   "execution_count": 1,
   "metadata": {
    "collapsed": false
   },
   "outputs": [],
   "source": [
    "import urllib\n",
    "import requests\n",
    "from bs4 import BeautifulSoup\n",
    "from urllib.request import urlopen"
   ]
  },
  {
   "cell_type": "code",
   "execution_count": 2,
   "metadata": {
    "collapsed": false
   },
   "outputs": [],
   "source": [
    "try:\n",
    "    html = urlopen('https://zenhabits.net/archives/')\n",
    "except HTTPError as e:\n",
    "    print(e)\n",
    "bs = BeautifulSoup(html.read(), 'html.parser')"
   ]
  },
  {
   "cell_type": "code",
   "execution_count": 3,
   "metadata": {
    "collapsed": false,
    "scrolled": false
   },
   "outputs": [],
   "source": [
    "list_of_links = []\n",
    "for a in bs.findAll('a',href=True):\n",
    "    list_of_links.append(a['href'])\n",
    "\n",
    "list_of_links = list_of_links[2:]"
   ]
  },
  {
   "cell_type": "code",
   "execution_count": 4,
   "metadata": {
    "collapsed": false
   },
   "outputs": [
    {
     "name": "stdout",
     "output_type": "stream",
     "text": [
      "Total number of articles on Zen Habits are 1282\n"
     ]
    }
   ],
   "source": [
    "print(\"Total number of articles on Zen Habits are\",len(list_of_links))"
   ]
  },
  {
   "cell_type": "code",
   "execution_count": 27,
   "metadata": {
    "collapsed": true
   },
   "outputs": [],
   "source": [
    "blog_data = {\n",
    "            'timestamp':[], \n",
    "            'title':[], \n",
    "            'blog':[]\n",
    "        }"
   ]
  },
  {
   "cell_type": "code",
   "execution_count": 28,
   "metadata": {
    "collapsed": true
   },
   "outputs": [],
   "source": [
    "def get_article_from_link(link):\n",
    "    \n",
    "    try:\n",
    "        page_html = urlopen(link)\n",
    "    except HTTPError as e:\n",
    "        print(e)\n",
    "    bs = BeautifulSoup(page_html.read(), 'html.parser')\n",
    "    timestamp = bs.find('div', {'class':'navigation'}).find('p').get_text()\n",
    "    timestamp = timestamp.replace('Posted: ','')\n",
    "    \n",
    "    title = bs.find('head',).find('title').get_text()\n",
    "    title = title.replace(':  zen habits', '')\n",
    "    \n",
    "    blog = bs.find('div', {'class':'post'},'!h').get_text()\n",
    "    \n",
    "    blog_data['timestamp'].append(timestamp)\n",
    "    blog_data['title'].append(title)\n",
    "    blog_data['blog'].append(blog)"
   ]
  },
  {
   "cell_type": "code",
   "execution_count": 29,
   "metadata": {
    "collapsed": true
   },
   "outputs": [],
   "source": []
  },
  {
   "cell_type": "code",
   "execution_count": 30,
   "metadata": {
    "collapsed": true
   },
   "outputs": [],
   "source": [
    "import time"
   ]
  },
  {
   "cell_type": "code",
   "execution_count": 32,
   "metadata": {
    "collapsed": false
   },
   "outputs": [],
   "source": [
    "t1 = time.time()\n",
    "for link in list_of_links:\n",
    "    try:\n",
    "        get_article_from_link(link)\n",
    "    except:\n",
    "        continue\n",
    "t2 = time.time()"
   ]
  },
  {
   "cell_type": "code",
   "execution_count": 50,
   "metadata": {
    "collapsed": false
   },
   "outputs": [
    {
     "data": {
      "text/plain": [
       "44.42490416765213"
      ]
     },
     "execution_count": 50,
     "metadata": {},
     "output_type": "execute_result"
    }
   ],
   "source": [
    "(t2-t1)/60\n"
   ]
  },
  {
   "cell_type": "code",
   "execution_count": 36,
   "metadata": {
    "collapsed": false
   },
   "outputs": [
    {
     "data": {
      "text/plain": [
       "1281"
      ]
     },
     "execution_count": 36,
     "metadata": {},
     "output_type": "execute_result"
    }
   ],
   "source": [
    "len(blog_data['title'])"
   ]
  },
  {
   "cell_type": "code",
   "execution_count": 39,
   "metadata": {
    "collapsed": true
   },
   "outputs": [],
   "source": [
    "with open('zen_habits_all_blog' + '.json', 'a') as the_file:\n",
    "        the_file.write(json.dumps(blog_data,indent=4, sort_keys=True))"
   ]
  },
  {
   "cell_type": "code",
   "execution_count": 40,
   "metadata": {
    "collapsed": true
   },
   "outputs": [],
   "source": [
    "import pandas as pd\n",
    "df = pd.DataFrame.from_dict(blog_data)"
   ]
  },
  {
   "cell_type": "code",
   "execution_count": 41,
   "metadata": {
    "collapsed": false
   },
   "outputs": [
    {
     "data": {
      "text/html": [
       "<div>\n",
       "<table border=\"1\" class=\"dataframe\">\n",
       "  <thead>\n",
       "    <tr style=\"text-align: right;\">\n",
       "      <th></th>\n",
       "      <th>blog</th>\n",
       "      <th>timestamp</th>\n",
       "      <th>title</th>\n",
       "    </tr>\n",
       "  </thead>\n",
       "  <tbody>\n",
       "    <tr>\n",
       "      <th>0</th>\n",
       "      <td>\\nBy Leo Babauta\\nI often get asked about how ...</td>\n",
       "      <td>Tuesday, August 21, 2018</td>\n",
       "      <td>How to Be Mindful All the Time</td>\n",
       "    </tr>\n",
       "    <tr>\n",
       "      <th>1</th>\n",
       "      <td>\\nBy Leo Babauta\\nWhen we’re trying to change ...</td>\n",
       "      <td>Tuesday, August 14, 2018</td>\n",
       "      <td>Herding Cats: A Simple Method for Working wit...</td>\n",
       "    </tr>\n",
       "    <tr>\n",
       "      <th>2</th>\n",
       "      <td>\\nBody like a mountain\\nBreath like the wind\\n...</td>\n",
       "      <td>Wednesday, August 8, 2018</td>\n",
       "      <td>The Practice of Vast Open Sky</td>\n",
       "    </tr>\n",
       "    <tr>\n",
       "      <th>3</th>\n",
       "      <td>\\nBy Leo Babauta\\nAs I went through last month...</td>\n",
       "      <td>Saturday, August 4, 2018</td>\n",
       "      <td>A Challenge: Create a Daily Reading Habit</td>\n",
       "    </tr>\n",
       "    <tr>\n",
       "      <th>4</th>\n",
       "      <td>\\nBy Leo Babauta\\nFor the last dozen years, I’...</td>\n",
       "      <td>Thursday, August 2, 2018</td>\n",
       "      <td>8 Key Lessons for Living a Simple Life</td>\n",
       "    </tr>\n",
       "  </tbody>\n",
       "</table>\n",
       "</div>"
      ],
      "text/plain": [
       "                                                blog  \\\n",
       "0  \\nBy Leo Babauta\\nI often get asked about how ...   \n",
       "1  \\nBy Leo Babauta\\nWhen we’re trying to change ...   \n",
       "2  \\nBody like a mountain\\nBreath like the wind\\n...   \n",
       "3  \\nBy Leo Babauta\\nAs I went through last month...   \n",
       "4  \\nBy Leo Babauta\\nFor the last dozen years, I’...   \n",
       "\n",
       "                   timestamp  \\\n",
       "0   Tuesday, August 21, 2018   \n",
       "1   Tuesday, August 14, 2018   \n",
       "2  Wednesday, August 8, 2018   \n",
       "3   Saturday, August 4, 2018   \n",
       "4   Thursday, August 2, 2018   \n",
       "\n",
       "                                               title  \n",
       "0                    How to Be Mindful All the Time   \n",
       "1   Herding Cats: A Simple Method for Working wit...  \n",
       "2                     The Practice of Vast Open Sky   \n",
       "3         A Challenge: Create a Daily Reading Habit   \n",
       "4            8 Key Lessons for Living a Simple Life   "
      ]
     },
     "execution_count": 41,
     "metadata": {},
     "output_type": "execute_result"
    }
   ],
   "source": [
    "df.head()"
   ]
  },
  {
   "cell_type": "code",
   "execution_count": 42,
   "metadata": {
    "collapsed": true
   },
   "outputs": [],
   "source": [
    "df.to_csv('zen_habits_all_blogs.csv')"
   ]
  },
  {
   "cell_type": "code",
   "execution_count": null,
   "metadata": {
    "collapsed": false
   },
   "outputs": [],
   "source": []
  }
 ],
 "metadata": {
  "kernelspec": {
   "display_name": "Python 3",
   "language": "python",
   "name": "python3"
  },
  "language_info": {
   "codemirror_mode": {
    "name": "ipython",
    "version": 3
   },
   "file_extension": ".py",
   "mimetype": "text/x-python",
   "name": "python",
   "nbconvert_exporter": "python",
   "pygments_lexer": "ipython3",
   "version": "3.5.2"
  }
 },
 "nbformat": 4,
 "nbformat_minor": 2
}
